{
 "cells": [
  {
   "cell_type": "code",
   "execution_count": 76,
   "metadata": {},
   "outputs": [],
   "source": [
    "import numpy as np\n",
    "import pandas as pd\n",
    "import matplotlib.pyplot as plt\n",
    "%matplotlib inline"
   ]
  },
  {
   "cell_type": "code",
   "execution_count": 77,
   "metadata": {},
   "outputs": [
    {
     "data": {
      "text/plain": [
       "'module://ipykernel.pylab.backend_inline'"
      ]
     },
     "execution_count": 77,
     "metadata": {},
     "output_type": "execute_result"
    }
   ],
   "source": [
    "plt.get_backend()"
   ]
  },
  {
   "cell_type": "code",
   "execution_count": 3,
   "metadata": {},
   "outputs": [
    {
     "data": {
      "text/plain": [
       "True"
      ]
     },
     "execution_count": 3,
     "metadata": {},
     "output_type": "execute_result"
    }
   ],
   "source": [
    "import webbrowser\n",
    "webbrowser.open_new_tab('https://pandas.pydata.org/docs/user_guide/io.html')\n"
   ]
  },
  {
   "cell_type": "code",
   "execution_count": 7,
   "metadata": {},
   "outputs": [],
   "source": [
    "df = pd.read_excel(\"https://github.com/chris1610/pbpython/blob/master/data/sample-salesv3.xlsx?raw=True\")"
   ]
  },
  {
   "cell_type": "code",
   "execution_count": 11,
   "metadata": {},
   "outputs": [],
   "source": [
    "c=df.groupby('name').transform(np.mean).add_prefix(\"mean_\")"
   ]
  },
  {
   "cell_type": "code",
   "execution_count": 12,
   "metadata": {},
   "outputs": [
    {
     "data": {
      "text/html": [
       "<div>\n",
       "<style scoped>\n",
       "    .dataframe tbody tr th:only-of-type {\n",
       "        vertical-align: middle;\n",
       "    }\n",
       "\n",
       "    .dataframe tbody tr th {\n",
       "        vertical-align: top;\n",
       "    }\n",
       "\n",
       "    .dataframe thead th {\n",
       "        text-align: right;\n",
       "    }\n",
       "</style>\n",
       "<table border=\"1\" class=\"dataframe\">\n",
       "  <thead>\n",
       "    <tr style=\"text-align: right;\">\n",
       "      <th></th>\n",
       "      <th>mean_account number</th>\n",
       "      <th>mean_quantity</th>\n",
       "      <th>mean_unit price</th>\n",
       "      <th>mean_ext price</th>\n",
       "    </tr>\n",
       "  </thead>\n",
       "  <tbody>\n",
       "    <tr>\n",
       "      <th>0</th>\n",
       "      <td>740150</td>\n",
       "      <td>24.890244</td>\n",
       "      <td>53.769024</td>\n",
       "      <td>1334.615854</td>\n",
       "    </tr>\n",
       "    <tr>\n",
       "      <th>1</th>\n",
       "      <td>714466</td>\n",
       "      <td>24.159574</td>\n",
       "      <td>56.180106</td>\n",
       "      <td>1312.567872</td>\n",
       "    </tr>\n",
       "    <tr>\n",
       "      <th>2</th>\n",
       "      <td>218895</td>\n",
       "      <td>24.095745</td>\n",
       "      <td>59.661596</td>\n",
       "      <td>1461.191064</td>\n",
       "    </tr>\n",
       "    <tr>\n",
       "      <th>3</th>\n",
       "      <td>307599</td>\n",
       "      <td>25.734375</td>\n",
       "      <td>51.043125</td>\n",
       "      <td>1350.797969</td>\n",
       "    </tr>\n",
       "    <tr>\n",
       "      <th>4</th>\n",
       "      <td>412290</td>\n",
       "      <td>22.460674</td>\n",
       "      <td>52.084719</td>\n",
       "      <td>1265.072247</td>\n",
       "    </tr>\n",
       "  </tbody>\n",
       "</table>\n",
       "</div>"
      ],
      "text/plain": [
       "   mean_account number  mean_quantity  mean_unit price  mean_ext price\n",
       "0               740150      24.890244        53.769024     1334.615854\n",
       "1               714466      24.159574        56.180106     1312.567872\n",
       "2               218895      24.095745        59.661596     1461.191064\n",
       "3               307599      25.734375        51.043125     1350.797969\n",
       "4               412290      22.460674        52.084719     1265.072247"
      ]
     },
     "execution_count": 12,
     "metadata": {},
     "output_type": "execute_result"
    }
   ],
   "source": [
    "c.head()"
   ]
  },
  {
   "cell_type": "code",
   "execution_count": 13,
   "metadata": {},
   "outputs": [
    {
     "data": {
      "text/html": [
       "<div>\n",
       "<style scoped>\n",
       "    .dataframe tbody tr th:only-of-type {\n",
       "        vertical-align: middle;\n",
       "    }\n",
       "\n",
       "    .dataframe tbody tr th {\n",
       "        vertical-align: top;\n",
       "    }\n",
       "\n",
       "    .dataframe thead th {\n",
       "        text-align: right;\n",
       "    }\n",
       "</style>\n",
       "<table border=\"1\" class=\"dataframe\">\n",
       "  <thead>\n",
       "    <tr style=\"text-align: right;\">\n",
       "      <th></th>\n",
       "      <th>account number</th>\n",
       "      <th>name</th>\n",
       "      <th>sku</th>\n",
       "      <th>quantity</th>\n",
       "      <th>unit price</th>\n",
       "      <th>ext price</th>\n",
       "      <th>date</th>\n",
       "      <th>mean_account number</th>\n",
       "      <th>mean_quantity</th>\n",
       "      <th>mean_unit price</th>\n",
       "      <th>mean_ext price</th>\n",
       "    </tr>\n",
       "  </thead>\n",
       "  <tbody>\n",
       "    <tr>\n",
       "      <th>0</th>\n",
       "      <td>740150</td>\n",
       "      <td>Barton LLC</td>\n",
       "      <td>B1-20000</td>\n",
       "      <td>39</td>\n",
       "      <td>86.69</td>\n",
       "      <td>3380.91</td>\n",
       "      <td>2014-01-01 07:21:51</td>\n",
       "      <td>740150</td>\n",
       "      <td>24.890244</td>\n",
       "      <td>53.769024</td>\n",
       "      <td>1334.615854</td>\n",
       "    </tr>\n",
       "    <tr>\n",
       "      <th>1</th>\n",
       "      <td>714466</td>\n",
       "      <td>Trantow-Barrows</td>\n",
       "      <td>S2-77896</td>\n",
       "      <td>-1</td>\n",
       "      <td>63.16</td>\n",
       "      <td>-63.16</td>\n",
       "      <td>2014-01-01 10:00:47</td>\n",
       "      <td>714466</td>\n",
       "      <td>24.159574</td>\n",
       "      <td>56.180106</td>\n",
       "      <td>1312.567872</td>\n",
       "    </tr>\n",
       "    <tr>\n",
       "      <th>2</th>\n",
       "      <td>218895</td>\n",
       "      <td>Kulas Inc</td>\n",
       "      <td>B1-69924</td>\n",
       "      <td>23</td>\n",
       "      <td>90.70</td>\n",
       "      <td>2086.10</td>\n",
       "      <td>2014-01-01 13:24:58</td>\n",
       "      <td>218895</td>\n",
       "      <td>24.095745</td>\n",
       "      <td>59.661596</td>\n",
       "      <td>1461.191064</td>\n",
       "    </tr>\n",
       "    <tr>\n",
       "      <th>3</th>\n",
       "      <td>307599</td>\n",
       "      <td>Kassulke, Ondricka and Metz</td>\n",
       "      <td>S1-65481</td>\n",
       "      <td>41</td>\n",
       "      <td>21.05</td>\n",
       "      <td>863.05</td>\n",
       "      <td>2014-01-01 15:05:22</td>\n",
       "      <td>307599</td>\n",
       "      <td>25.734375</td>\n",
       "      <td>51.043125</td>\n",
       "      <td>1350.797969</td>\n",
       "    </tr>\n",
       "    <tr>\n",
       "      <th>4</th>\n",
       "      <td>412290</td>\n",
       "      <td>Jerde-Hilpert</td>\n",
       "      <td>S2-34077</td>\n",
       "      <td>6</td>\n",
       "      <td>83.21</td>\n",
       "      <td>499.26</td>\n",
       "      <td>2014-01-01 23:26:55</td>\n",
       "      <td>412290</td>\n",
       "      <td>22.460674</td>\n",
       "      <td>52.084719</td>\n",
       "      <td>1265.072247</td>\n",
       "    </tr>\n",
       "    <tr>\n",
       "      <th>...</th>\n",
       "      <td>...</td>\n",
       "      <td>...</td>\n",
       "      <td>...</td>\n",
       "      <td>...</td>\n",
       "      <td>...</td>\n",
       "      <td>...</td>\n",
       "      <td>...</td>\n",
       "      <td>...</td>\n",
       "      <td>...</td>\n",
       "      <td>...</td>\n",
       "      <td>...</td>\n",
       "    </tr>\n",
       "    <tr>\n",
       "      <th>1495</th>\n",
       "      <td>737550</td>\n",
       "      <td>Fritsch, Russel and Anderson</td>\n",
       "      <td>S1-06532</td>\n",
       "      <td>12</td>\n",
       "      <td>55.80</td>\n",
       "      <td>669.60</td>\n",
       "      <td>2014-12-30 13:38:13</td>\n",
       "      <td>737550</td>\n",
       "      <td>26.074074</td>\n",
       "      <td>53.708765</td>\n",
       "      <td>1385.366790</td>\n",
       "    </tr>\n",
       "    <tr>\n",
       "      <th>1496</th>\n",
       "      <td>786968</td>\n",
       "      <td>Frami, Hills and Schmidt</td>\n",
       "      <td>S1-06532</td>\n",
       "      <td>37</td>\n",
       "      <td>13.14</td>\n",
       "      <td>486.18</td>\n",
       "      <td>2014-12-30 21:42:17</td>\n",
       "      <td>786968</td>\n",
       "      <td>26.430556</td>\n",
       "      <td>54.756806</td>\n",
       "      <td>1438.466528</td>\n",
       "    </tr>\n",
       "    <tr>\n",
       "      <th>1497</th>\n",
       "      <td>239344</td>\n",
       "      <td>Stokes LLC</td>\n",
       "      <td>S2-10342</td>\n",
       "      <td>14</td>\n",
       "      <td>38.75</td>\n",
       "      <td>542.50</td>\n",
       "      <td>2014-12-30 22:45:19</td>\n",
       "      <td>239344</td>\n",
       "      <td>24.527778</td>\n",
       "      <td>51.545278</td>\n",
       "      <td>1271.332222</td>\n",
       "    </tr>\n",
       "    <tr>\n",
       "      <th>1498</th>\n",
       "      <td>642753</td>\n",
       "      <td>Pollich LLC</td>\n",
       "      <td>S2-82423</td>\n",
       "      <td>3</td>\n",
       "      <td>65.97</td>\n",
       "      <td>197.91</td>\n",
       "      <td>2014-12-31 10:36:24</td>\n",
       "      <td>642753</td>\n",
       "      <td>23.383562</td>\n",
       "      <td>56.533151</td>\n",
       "      <td>1196.536712</td>\n",
       "    </tr>\n",
       "    <tr>\n",
       "      <th>1499</th>\n",
       "      <td>383080</td>\n",
       "      <td>Will LLC</td>\n",
       "      <td>S2-00301</td>\n",
       "      <td>38</td>\n",
       "      <td>46.44</td>\n",
       "      <td>1764.72</td>\n",
       "      <td>2014-12-31 12:48:35</td>\n",
       "      <td>383080</td>\n",
       "      <td>24.702703</td>\n",
       "      <td>58.632973</td>\n",
       "      <td>1411.318919</td>\n",
       "    </tr>\n",
       "  </tbody>\n",
       "</table>\n",
       "<p>1500 rows × 11 columns</p>\n",
       "</div>"
      ],
      "text/plain": [
       "      account number                          name       sku  quantity  \\\n",
       "0             740150                    Barton LLC  B1-20000        39   \n",
       "1             714466               Trantow-Barrows  S2-77896        -1   \n",
       "2             218895                     Kulas Inc  B1-69924        23   \n",
       "3             307599   Kassulke, Ondricka and Metz  S1-65481        41   \n",
       "4             412290                 Jerde-Hilpert  S2-34077         6   \n",
       "...              ...                           ...       ...       ...   \n",
       "1495          737550  Fritsch, Russel and Anderson  S1-06532        12   \n",
       "1496          786968      Frami, Hills and Schmidt  S1-06532        37   \n",
       "1497          239344                    Stokes LLC  S2-10342        14   \n",
       "1498          642753                   Pollich LLC  S2-82423         3   \n",
       "1499          383080                      Will LLC  S2-00301        38   \n",
       "\n",
       "      unit price  ext price                 date  mean_account number  \\\n",
       "0          86.69    3380.91  2014-01-01 07:21:51               740150   \n",
       "1          63.16     -63.16  2014-01-01 10:00:47               714466   \n",
       "2          90.70    2086.10  2014-01-01 13:24:58               218895   \n",
       "3          21.05     863.05  2014-01-01 15:05:22               307599   \n",
       "4          83.21     499.26  2014-01-01 23:26:55               412290   \n",
       "...          ...        ...                  ...                  ...   \n",
       "1495       55.80     669.60  2014-12-30 13:38:13               737550   \n",
       "1496       13.14     486.18  2014-12-30 21:42:17               786968   \n",
       "1497       38.75     542.50  2014-12-30 22:45:19               239344   \n",
       "1498       65.97     197.91  2014-12-31 10:36:24               642753   \n",
       "1499       46.44    1764.72  2014-12-31 12:48:35               383080   \n",
       "\n",
       "      mean_quantity  mean_unit price  mean_ext price  \n",
       "0         24.890244        53.769024     1334.615854  \n",
       "1         24.159574        56.180106     1312.567872  \n",
       "2         24.095745        59.661596     1461.191064  \n",
       "3         25.734375        51.043125     1350.797969  \n",
       "4         22.460674        52.084719     1265.072247  \n",
       "...             ...              ...             ...  \n",
       "1495      26.074074        53.708765     1385.366790  \n",
       "1496      26.430556        54.756806     1438.466528  \n",
       "1497      24.527778        51.545278     1271.332222  \n",
       "1498      23.383562        56.533151     1196.536712  \n",
       "1499      24.702703        58.632973     1411.318919  \n",
       "\n",
       "[1500 rows x 11 columns]"
      ]
     },
     "execution_count": 13,
     "metadata": {},
     "output_type": "execute_result"
    }
   ],
   "source": [
    "pd.concat([df,c],axis=1)"
   ]
  },
  {
   "cell_type": "code",
   "execution_count": 14,
   "metadata": {},
   "outputs": [],
   "source": [
    "g=df.groupby('name')"
   ]
  },
  {
   "cell_type": "code",
   "execution_count": 15,
   "metadata": {},
   "outputs": [
    {
     "data": {
      "text/plain": [
       "pandas.core.groupby.generic.DataFrameGroupBy"
      ]
     },
     "execution_count": 15,
     "metadata": {},
     "output_type": "execute_result"
    }
   ],
   "source": [
    "type(g)"
   ]
  },
  {
   "cell_type": "code",
   "execution_count": 35,
   "metadata": {},
   "outputs": [
    {
     "name": "stdout",
     "output_type": "stream",
     "text": [
      "<class 'str'>\n",
      "<class 'pandas.core.frame.DataFrame'>\n"
     ]
    }
   ],
   "source": [
    "for n,d in g:\n",
    "    print(type(n))\n",
    "    print(type(d))\n",
    "    break\n",
    "    "
   ]
  },
  {
   "cell_type": "code",
   "execution_count": 44,
   "metadata": {},
   "outputs": [],
   "source": [
    "def hello(s):\n",
    "    print(type(s))\n",
    "    print(s.head(2))"
   ]
  },
  {
   "cell_type": "code",
   "execution_count": 45,
   "metadata": {},
   "outputs": [
    {
     "name": "stdout",
     "output_type": "stream",
     "text": [
      "<class 'pandas.core.frame.DataFrame'>\n",
      "    account number       sku  quantity  unit price  ext price  \\\n",
      "0           740150  B1-20000        39       86.69    3380.91   \n",
      "85          740150  B1-50809         8       19.60     156.80   \n",
      "\n",
      "                   date  \n",
      "0   2014-01-01 07:21:51  \n",
      "85  2014-01-20 01:48:47  \n",
      "<class 'pandas.core.frame.DataFrame'>\n",
      "     account number       sku  quantity  unit price  ext price  \\\n",
      "51           257198  B1-05914         8       23.05     184.40   \n",
      "110          257198  S2-16558        41       23.35     957.35   \n",
      "\n",
      "                    date  \n",
      "51   2014-01-14 01:57:35  \n",
      "110  2014-01-25 23:53:42  \n",
      "<class 'pandas.core.frame.DataFrame'>\n",
      "    account number       sku  quantity  unit price  ext price  \\\n",
      "12          786968  S2-23246         6       61.31     367.86   \n",
      "22          786968  B1-04202         2       52.41     104.82   \n",
      "\n",
      "                   date  \n",
      "12  2014-01-04 06:51:53  \n",
      "22  2014-01-06 15:53:49  \n",
      "<class 'pandas.core.frame.DataFrame'>\n",
      "    account number       sku  quantity  unit price  ext price  \\\n",
      "9           737550  S2-82423        14       81.92    1146.88   \n",
      "14          737550  B1-53102        23       71.56    1645.88   \n",
      "\n",
      "                   date  \n",
      "9   2014-01-03 19:07:37  \n",
      "14  2014-01-04 08:57:48  \n",
      "<class 'pandas.core.frame.DataFrame'>\n",
      "    account number       sku  quantity  unit price  ext price  \\\n",
      "67          604255  B1-65551        34       62.86    2137.24   \n",
      "79          604255  S1-27722        34       88.99    3025.66   \n",
      "\n",
      "                   date  \n",
      "67  2014-01-17 19:00:16  \n",
      "79  2014-01-19 10:16:20  \n",
      "<class 'pandas.core.frame.DataFrame'>\n",
      "    account number       sku  quantity  unit price  ext price  \\\n",
      "18          141962  S1-82801        10       94.30     943.00   \n",
      "49          141962  B1-53636         4       18.72      74.88   \n",
      "\n",
      "                   date  \n",
      "18  2014-01-05 15:12:16  \n",
      "49  2014-01-13 20:50:52  \n",
      "<class 'pandas.core.frame.DataFrame'>\n",
      "    account number       sku  quantity  unit price  ext price  \\\n",
      "4           412290  S2-34077         6       83.21     499.26   \n",
      "19          412290  S2-00301        33       31.18    1028.94   \n",
      "\n",
      "                   date  \n",
      "4   2014-01-01 23:26:55  \n",
      "19  2014-01-05 22:39:21  \n",
      "<class 'pandas.core.frame.DataFrame'>\n",
      "    account number       sku  quantity  unit price  ext price  \\\n",
      "3           307599  S1-65481        41       21.05     863.05   \n",
      "13          307599  S2-10342        17       12.44     211.48   \n",
      "\n",
      "                   date  \n",
      "3   2014-01-01 15:05:22  \n",
      "13  2014-01-04 07:53:01  \n",
      "<class 'pandas.core.frame.DataFrame'>\n",
      "    account number       sku  quantity  unit price  ext price  \\\n",
      "11          688981  S2-00301         7       20.26     141.82   \n",
      "55          688981  S2-16558        11       83.56     919.16   \n",
      "\n",
      "                   date  \n",
      "11  2014-01-04 00:02:36  \n",
      "55  2014-01-15 06:52:09  \n",
      "<class 'pandas.core.frame.DataFrame'>\n",
      "    account number       sku  quantity  unit price  ext price  \\\n",
      "10          146832  S2-82423        15       67.74    1016.10   \n",
      "41          146832  S2-16558        22       87.91    1934.02   \n",
      "\n",
      "                   date  \n",
      "10  2014-01-03 19:39:53  \n",
      "41  2014-01-11 21:48:26  \n",
      "<class 'pandas.core.frame.DataFrame'>\n",
      "    account number       sku  quantity  unit price  ext price  \\\n",
      "7           729833  S1-30248         8       33.25     266.00   \n",
      "25          729833  S2-78676         5       14.75      73.75   \n",
      "\n",
      "                   date  \n",
      "7   2014-01-03 06:32:11  \n",
      "25  2014-01-07 00:29:41  \n",
      "<class 'pandas.core.frame.DataFrame'>\n",
      "    account number       sku  quantity  unit price  ext price  \\\n",
      "16          672390  S1-30248        14       72.75    1018.50   \n",
      "27          672390  S2-83881        42       63.87    2682.54   \n",
      "\n",
      "                   date  \n",
      "16  2014-01-04 19:59:02  \n",
      "27  2014-01-08 10:00:08  \n",
      "<class 'pandas.core.frame.DataFrame'>\n",
      "   account number       sku  quantity  unit price  ext price  \\\n",
      "2          218895  B1-69924        23        90.7     2086.1   \n",
      "6          218895  B1-65551         2        31.1       62.2   \n",
      "\n",
      "                  date  \n",
      "2  2014-01-01 13:24:58  \n",
      "6  2014-01-02 10:57:23  \n",
      "<class 'pandas.core.frame.DataFrame'>\n",
      "    account number       sku  quantity  unit price  ext price  \\\n",
      "30          642753  S1-93683         4       87.18     348.72   \n",
      "78          642753  S1-50961         3       20.27      60.81   \n",
      "\n",
      "                   date  \n",
      "30  2014-01-09 00:57:12  \n",
      "78  2014-01-19 00:12:32  \n",
      "<class 'pandas.core.frame.DataFrame'>\n",
      "     account number       sku  quantity  unit price  ext price  \\\n",
      "106          163416  S1-47412        31       54.32    1683.92   \n",
      "114          163416  B1-05914        35       85.87    3005.45   \n",
      "\n",
      "                    date  \n",
      "106  2014-01-24 04:14:33  \n",
      "114  2014-01-26 20:08:00  \n",
      "<class 'pandas.core.frame.DataFrame'>\n",
      "    account number       sku  quantity  unit price  ext price  \\\n",
      "21          527099  S1-30248        24       50.29    1206.96   \n",
      "35          527099  S1-27722        48       43.40    2083.20   \n",
      "\n",
      "                   date  \n",
      "21  2014-01-06 14:14:00  \n",
      "35  2014-01-10 10:59:39  \n",
      "<class 'pandas.core.frame.DataFrame'>\n",
      "    account number       sku  quantity  unit price  ext price  \\\n",
      "15          239344  S1-06532        34       71.51    2431.34   \n",
      "17          239344  B1-50809        14       16.23     227.22   \n",
      "\n",
      "                   date  \n",
      "15  2014-01-04 11:34:58  \n",
      "17  2014-01-04 22:14:32  \n",
      "<class 'pandas.core.frame.DataFrame'>\n",
      "   account number       sku  quantity  unit price  ext price  \\\n",
      "1          714466  S2-77896        -1       63.16     -63.16   \n",
      "5          714466  S2-77896        17       87.63    1489.71   \n",
      "\n",
      "                  date  \n",
      "1  2014-01-01 10:00:47  \n",
      "5  2014-01-02 10:07:15  \n",
      "<class 'pandas.core.frame.DataFrame'>\n",
      "    account number       sku  quantity  unit price  ext price  \\\n",
      "20          424914  S2-00301        45       96.95    4362.75   \n",
      "52          424914  S2-10342         4       20.67      82.68   \n",
      "\n",
      "                   date  \n",
      "20  2014-01-06 08:20:27  \n",
      "52  2014-01-14 15:07:18  \n",
      "<class 'pandas.core.frame.DataFrame'>\n",
      "    account number       sku  quantity  unit price  ext price  \\\n",
      "37          383080  S2-23246        23       59.98    1379.54   \n",
      "38          383080  B1-05914        25       98.46    2461.50   \n",
      "\n",
      "                   date  \n",
      "37  2014-01-10 13:44:08  \n",
      "38  2014-01-10 15:12:00  \n"
     ]
    },
    {
     "data": {
      "text/html": [
       "<div>\n",
       "<style scoped>\n",
       "    .dataframe tbody tr th:only-of-type {\n",
       "        vertical-align: middle;\n",
       "    }\n",
       "\n",
       "    .dataframe tbody tr th {\n",
       "        vertical-align: top;\n",
       "    }\n",
       "\n",
       "    .dataframe thead th {\n",
       "        text-align: right;\n",
       "    }\n",
       "</style>\n",
       "<table border=\"1\" class=\"dataframe\">\n",
       "  <thead>\n",
       "    <tr style=\"text-align: right;\">\n",
       "      <th></th>\n",
       "    </tr>\n",
       "  </thead>\n",
       "  <tbody>\n",
       "  </tbody>\n",
       "</table>\n",
       "</div>"
      ],
      "text/plain": [
       "Empty DataFrame\n",
       "Columns: []\n",
       "Index: []"
      ]
     },
     "execution_count": 45,
     "metadata": {},
     "output_type": "execute_result"
    }
   ],
   "source": [
    "g.apply(hello)"
   ]
  },
  {
   "cell_type": "code",
   "execution_count": 47,
   "metadata": {},
   "outputs": [
    {
     "data": {
      "text/plain": [
       "datetime.datetime(2020, 5, 16, 10, 58, 13, 745717)"
      ]
     },
     "execution_count": 47,
     "metadata": {},
     "output_type": "execute_result"
    }
   ],
   "source": [
    "pd.date_range()"
   ]
  },
  {
   "cell_type": "code",
   "execution_count": 48,
   "metadata": {},
   "outputs": [
    {
     "data": {
      "text/html": [
       "<div>\n",
       "<style scoped>\n",
       "    .dataframe tbody tr th:only-of-type {\n",
       "        vertical-align: middle;\n",
       "    }\n",
       "\n",
       "    .dataframe tbody tr th {\n",
       "        vertical-align: top;\n",
       "    }\n",
       "\n",
       "    .dataframe thead th {\n",
       "        text-align: right;\n",
       "    }\n",
       "</style>\n",
       "<table border=\"1\" class=\"dataframe\">\n",
       "  <thead>\n",
       "    <tr style=\"text-align: right;\">\n",
       "      <th></th>\n",
       "      <th>account number</th>\n",
       "      <th>name</th>\n",
       "      <th>sku</th>\n",
       "      <th>quantity</th>\n",
       "      <th>unit price</th>\n",
       "      <th>ext price</th>\n",
       "      <th>date</th>\n",
       "    </tr>\n",
       "  </thead>\n",
       "  <tbody>\n",
       "    <tr>\n",
       "      <th>0</th>\n",
       "      <td>740150</td>\n",
       "      <td>Barton LLC</td>\n",
       "      <td>B1-20000</td>\n",
       "      <td>39</td>\n",
       "      <td>86.69</td>\n",
       "      <td>3380.91</td>\n",
       "      <td>2014-01-01 07:21:51</td>\n",
       "    </tr>\n",
       "    <tr>\n",
       "      <th>1</th>\n",
       "      <td>714466</td>\n",
       "      <td>Trantow-Barrows</td>\n",
       "      <td>S2-77896</td>\n",
       "      <td>-1</td>\n",
       "      <td>63.16</td>\n",
       "      <td>-63.16</td>\n",
       "      <td>2014-01-01 10:00:47</td>\n",
       "    </tr>\n",
       "    <tr>\n",
       "      <th>2</th>\n",
       "      <td>218895</td>\n",
       "      <td>Kulas Inc</td>\n",
       "      <td>B1-69924</td>\n",
       "      <td>23</td>\n",
       "      <td>90.70</td>\n",
       "      <td>2086.10</td>\n",
       "      <td>2014-01-01 13:24:58</td>\n",
       "    </tr>\n",
       "    <tr>\n",
       "      <th>3</th>\n",
       "      <td>307599</td>\n",
       "      <td>Kassulke, Ondricka and Metz</td>\n",
       "      <td>S1-65481</td>\n",
       "      <td>41</td>\n",
       "      <td>21.05</td>\n",
       "      <td>863.05</td>\n",
       "      <td>2014-01-01 15:05:22</td>\n",
       "    </tr>\n",
       "    <tr>\n",
       "      <th>4</th>\n",
       "      <td>412290</td>\n",
       "      <td>Jerde-Hilpert</td>\n",
       "      <td>S2-34077</td>\n",
       "      <td>6</td>\n",
       "      <td>83.21</td>\n",
       "      <td>499.26</td>\n",
       "      <td>2014-01-01 23:26:55</td>\n",
       "    </tr>\n",
       "    <tr>\n",
       "      <th>...</th>\n",
       "      <td>...</td>\n",
       "      <td>...</td>\n",
       "      <td>...</td>\n",
       "      <td>...</td>\n",
       "      <td>...</td>\n",
       "      <td>...</td>\n",
       "      <td>...</td>\n",
       "    </tr>\n",
       "    <tr>\n",
       "      <th>1495</th>\n",
       "      <td>737550</td>\n",
       "      <td>Fritsch, Russel and Anderson</td>\n",
       "      <td>S1-06532</td>\n",
       "      <td>12</td>\n",
       "      <td>55.80</td>\n",
       "      <td>669.60</td>\n",
       "      <td>2014-12-30 13:38:13</td>\n",
       "    </tr>\n",
       "    <tr>\n",
       "      <th>1496</th>\n",
       "      <td>786968</td>\n",
       "      <td>Frami, Hills and Schmidt</td>\n",
       "      <td>S1-06532</td>\n",
       "      <td>37</td>\n",
       "      <td>13.14</td>\n",
       "      <td>486.18</td>\n",
       "      <td>2014-12-30 21:42:17</td>\n",
       "    </tr>\n",
       "    <tr>\n",
       "      <th>1497</th>\n",
       "      <td>239344</td>\n",
       "      <td>Stokes LLC</td>\n",
       "      <td>S2-10342</td>\n",
       "      <td>14</td>\n",
       "      <td>38.75</td>\n",
       "      <td>542.50</td>\n",
       "      <td>2014-12-30 22:45:19</td>\n",
       "    </tr>\n",
       "    <tr>\n",
       "      <th>1498</th>\n",
       "      <td>642753</td>\n",
       "      <td>Pollich LLC</td>\n",
       "      <td>S2-82423</td>\n",
       "      <td>3</td>\n",
       "      <td>65.97</td>\n",
       "      <td>197.91</td>\n",
       "      <td>2014-12-31 10:36:24</td>\n",
       "    </tr>\n",
       "    <tr>\n",
       "      <th>1499</th>\n",
       "      <td>383080</td>\n",
       "      <td>Will LLC</td>\n",
       "      <td>S2-00301</td>\n",
       "      <td>38</td>\n",
       "      <td>46.44</td>\n",
       "      <td>1764.72</td>\n",
       "      <td>2014-12-31 12:48:35</td>\n",
       "    </tr>\n",
       "  </tbody>\n",
       "</table>\n",
       "<p>1500 rows × 7 columns</p>\n",
       "</div>"
      ],
      "text/plain": [
       "      account number                          name       sku  quantity  \\\n",
       "0             740150                    Barton LLC  B1-20000        39   \n",
       "1             714466               Trantow-Barrows  S2-77896        -1   \n",
       "2             218895                     Kulas Inc  B1-69924        23   \n",
       "3             307599   Kassulke, Ondricka and Metz  S1-65481        41   \n",
       "4             412290                 Jerde-Hilpert  S2-34077         6   \n",
       "...              ...                           ...       ...       ...   \n",
       "1495          737550  Fritsch, Russel and Anderson  S1-06532        12   \n",
       "1496          786968      Frami, Hills and Schmidt  S1-06532        37   \n",
       "1497          239344                    Stokes LLC  S2-10342        14   \n",
       "1498          642753                   Pollich LLC  S2-82423         3   \n",
       "1499          383080                      Will LLC  S2-00301        38   \n",
       "\n",
       "      unit price  ext price                 date  \n",
       "0          86.69    3380.91  2014-01-01 07:21:51  \n",
       "1          63.16     -63.16  2014-01-01 10:00:47  \n",
       "2          90.70    2086.10  2014-01-01 13:24:58  \n",
       "3          21.05     863.05  2014-01-01 15:05:22  \n",
       "4          83.21     499.26  2014-01-01 23:26:55  \n",
       "...          ...        ...                  ...  \n",
       "1495       55.80     669.60  2014-12-30 13:38:13  \n",
       "1496       13.14     486.18  2014-12-30 21:42:17  \n",
       "1497       38.75     542.50  2014-12-30 22:45:19  \n",
       "1498       65.97     197.91  2014-12-31 10:36:24  \n",
       "1499       46.44    1764.72  2014-12-31 12:48:35  \n",
       "\n",
       "[1500 rows x 7 columns]"
      ]
     },
     "execution_count": 48,
     "metadata": {},
     "output_type": "execute_result"
    }
   ],
   "source": [
    "df"
   ]
  },
  {
   "cell_type": "code",
   "execution_count": 51,
   "metadata": {},
   "outputs": [],
   "source": [
    "df.columns=df.columns.str.upper().str.replace(' ','_')"
   ]
  },
  {
   "cell_type": "code",
   "execution_count": 54,
   "metadata": {},
   "outputs": [],
   "source": [
    "df.DATE=pd.to_datetime(df.DATE)"
   ]
  },
  {
   "cell_type": "code",
   "execution_count": 56,
   "metadata": {},
   "outputs": [
    {
     "data": {
      "text/html": [
       "<div>\n",
       "<style scoped>\n",
       "    .dataframe tbody tr th:only-of-type {\n",
       "        vertical-align: middle;\n",
       "    }\n",
       "\n",
       "    .dataframe tbody tr th {\n",
       "        vertical-align: top;\n",
       "    }\n",
       "\n",
       "    .dataframe thead th {\n",
       "        text-align: right;\n",
       "    }\n",
       "</style>\n",
       "<table border=\"1\" class=\"dataframe\">\n",
       "  <thead>\n",
       "    <tr style=\"text-align: right;\">\n",
       "      <th></th>\n",
       "      <th>ACCOUNT_NUMBER</th>\n",
       "      <th>NAME</th>\n",
       "      <th>SKU</th>\n",
       "      <th>QUANTITY</th>\n",
       "      <th>UNIT_PRICE</th>\n",
       "      <th>EXT_PRICE</th>\n",
       "      <th>DATE</th>\n",
       "    </tr>\n",
       "  </thead>\n",
       "  <tbody>\n",
       "    <tr>\n",
       "      <th>0</th>\n",
       "      <td>740150</td>\n",
       "      <td>Barton LLC</td>\n",
       "      <td>B1-20000</td>\n",
       "      <td>39</td>\n",
       "      <td>86.69</td>\n",
       "      <td>3380.91</td>\n",
       "      <td>2014-01-01 07:21:51</td>\n",
       "    </tr>\n",
       "    <tr>\n",
       "      <th>1</th>\n",
       "      <td>714466</td>\n",
       "      <td>Trantow-Barrows</td>\n",
       "      <td>S2-77896</td>\n",
       "      <td>-1</td>\n",
       "      <td>63.16</td>\n",
       "      <td>-63.16</td>\n",
       "      <td>2014-01-01 10:00:47</td>\n",
       "    </tr>\n",
       "    <tr>\n",
       "      <th>2</th>\n",
       "      <td>218895</td>\n",
       "      <td>Kulas Inc</td>\n",
       "      <td>B1-69924</td>\n",
       "      <td>23</td>\n",
       "      <td>90.70</td>\n",
       "      <td>2086.10</td>\n",
       "      <td>2014-01-01 13:24:58</td>\n",
       "    </tr>\n",
       "    <tr>\n",
       "      <th>3</th>\n",
       "      <td>307599</td>\n",
       "      <td>Kassulke, Ondricka and Metz</td>\n",
       "      <td>S1-65481</td>\n",
       "      <td>41</td>\n",
       "      <td>21.05</td>\n",
       "      <td>863.05</td>\n",
       "      <td>2014-01-01 15:05:22</td>\n",
       "    </tr>\n",
       "    <tr>\n",
       "      <th>4</th>\n",
       "      <td>412290</td>\n",
       "      <td>Jerde-Hilpert</td>\n",
       "      <td>S2-34077</td>\n",
       "      <td>6</td>\n",
       "      <td>83.21</td>\n",
       "      <td>499.26</td>\n",
       "      <td>2014-01-01 23:26:55</td>\n",
       "    </tr>\n",
       "  </tbody>\n",
       "</table>\n",
       "</div>"
      ],
      "text/plain": [
       "   ACCOUNT_NUMBER                         NAME       SKU  QUANTITY  \\\n",
       "0          740150                   Barton LLC  B1-20000        39   \n",
       "1          714466              Trantow-Barrows  S2-77896        -1   \n",
       "2          218895                    Kulas Inc  B1-69924        23   \n",
       "3          307599  Kassulke, Ondricka and Metz  S1-65481        41   \n",
       "4          412290                Jerde-Hilpert  S2-34077         6   \n",
       "\n",
       "   UNIT_PRICE  EXT_PRICE                DATE  \n",
       "0       86.69    3380.91 2014-01-01 07:21:51  \n",
       "1       63.16     -63.16 2014-01-01 10:00:47  \n",
       "2       90.70    2086.10 2014-01-01 13:24:58  \n",
       "3       21.05     863.05 2014-01-01 15:05:22  \n",
       "4       83.21     499.26 2014-01-01 23:26:55  "
      ]
     },
     "execution_count": 56,
     "metadata": {},
     "output_type": "execute_result"
    }
   ],
   "source": [
    "df.head()"
   ]
  },
  {
   "cell_type": "code",
   "execution_count": 58,
   "metadata": {},
   "outputs": [
    {
     "data": {
      "text/plain": [
       "Index                128\n",
       "ACCOUNT_NUMBER     12000\n",
       "NAME              108383\n",
       "SKU                97500\n",
       "QUANTITY           12000\n",
       "UNIT_PRICE         12000\n",
       "EXT_PRICE          12000\n",
       "DATE               12000\n",
       "dtype: int64"
      ]
     },
     "execution_count": 58,
     "metadata": {},
     "output_type": "execute_result"
    }
   ],
   "source": [
    "df.memory_usage(deep=True)"
   ]
  },
  {
   "cell_type": "code",
   "execution_count": 59,
   "metadata": {},
   "outputs": [
    {
     "data": {
      "text/plain": [
       "<DatetimeArray>\n",
       "['2014-01-01 07:21:51', '2014-01-01 10:00:47', '2014-01-01 13:24:58',\n",
       " '2014-01-01 15:05:22', '2014-01-01 23:26:55', '2014-01-02 10:07:15',\n",
       " '2014-01-02 10:57:23', '2014-01-03 06:32:11', '2014-01-03 11:29:02',\n",
       " '2014-01-03 19:07:37',\n",
       " ...\n",
       " '2014-12-29 13:32:18', '2014-12-29 14:23:37', '2014-12-29 17:43:04',\n",
       " '2014-12-30 02:25:21', '2014-12-30 12:38:25', '2014-12-30 13:38:13',\n",
       " '2014-12-30 21:42:17', '2014-12-30 22:45:19', '2014-12-31 10:36:24',\n",
       " '2014-12-31 12:48:35']\n",
       "Length: 1500, dtype: datetime64[ns]"
      ]
     },
     "execution_count": 59,
     "metadata": {},
     "output_type": "execute_result"
    }
   ],
   "source": [
    "df.DATE.array"
   ]
  },
  {
   "cell_type": "code",
   "execution_count": 60,
   "metadata": {},
   "outputs": [
    {
     "data": {
      "text/plain": [
       "array(['2014-01-01T07:21:51.000000000', '2014-01-01T10:00:47.000000000',\n",
       "       '2014-01-01T13:24:58.000000000', ...,\n",
       "       '2014-12-30T22:45:19.000000000', '2014-12-31T10:36:24.000000000',\n",
       "       '2014-12-31T12:48:35.000000000'], dtype='datetime64[ns]')"
      ]
     },
     "execution_count": 60,
     "metadata": {},
     "output_type": "execute_result"
    }
   ],
   "source": [
    "df.DATE.to_numpy()"
   ]
  },
  {
   "cell_type": "code",
   "execution_count": 61,
   "metadata": {},
   "outputs": [
    {
     "data": {
      "text/plain": [
       "array(['2014-01-01T07:21:51.000000000', '2014-01-01T10:00:47.000000000',\n",
       "       '2014-01-01T13:24:58.000000000', ...,\n",
       "       '2014-12-30T22:45:19.000000000', '2014-12-31T10:36:24.000000000',\n",
       "       '2014-12-31T12:48:35.000000000'], dtype='datetime64[ns]')"
      ]
     },
     "execution_count": 61,
     "metadata": {},
     "output_type": "execute_result"
    }
   ],
   "source": [
    "np.asarray(df.DATE)"
   ]
  },
  {
   "cell_type": "code",
   "execution_count": 66,
   "metadata": {},
   "outputs": [],
   "source": [
    "s=pd.date_range('202005160800',periods=10,tz='Asia/Tokyo',freq='30T')"
   ]
  },
  {
   "cell_type": "code",
   "execution_count": 67,
   "metadata": {},
   "outputs": [
    {
     "data": {
      "text/plain": [
       "DatetimeIndex(['2020-05-16 08:00:00+09:00', '2020-05-16 08:30:00+09:00',\n",
       "               '2020-05-16 09:00:00+09:00', '2020-05-16 09:30:00+09:00',\n",
       "               '2020-05-16 10:00:00+09:00', '2020-05-16 10:30:00+09:00',\n",
       "               '2020-05-16 11:00:00+09:00', '2020-05-16 11:30:00+09:00',\n",
       "               '2020-05-16 12:00:00+09:00', '2020-05-16 12:30:00+09:00'],\n",
       "              dtype='datetime64[ns, Asia/Tokyo]', freq='30T')"
      ]
     },
     "execution_count": 67,
     "metadata": {},
     "output_type": "execute_result"
    }
   ],
   "source": [
    "s"
   ]
  },
  {
   "cell_type": "code",
   "execution_count": 68,
   "metadata": {},
   "outputs": [
    {
     "data": {
      "text/plain": [
       "array([Timestamp('2020-05-16 08:00:00+0900', tz='Asia/Tokyo', freq='30T'),\n",
       "       Timestamp('2020-05-16 08:30:00+0900', tz='Asia/Tokyo', freq='30T'),\n",
       "       Timestamp('2020-05-16 09:00:00+0900', tz='Asia/Tokyo', freq='30T'),\n",
       "       Timestamp('2020-05-16 09:30:00+0900', tz='Asia/Tokyo', freq='30T'),\n",
       "       Timestamp('2020-05-16 10:00:00+0900', tz='Asia/Tokyo', freq='30T'),\n",
       "       Timestamp('2020-05-16 10:30:00+0900', tz='Asia/Tokyo', freq='30T'),\n",
       "       Timestamp('2020-05-16 11:00:00+0900', tz='Asia/Tokyo', freq='30T'),\n",
       "       Timestamp('2020-05-16 11:30:00+0900', tz='Asia/Tokyo', freq='30T'),\n",
       "       Timestamp('2020-05-16 12:00:00+0900', tz='Asia/Tokyo', freq='30T'),\n",
       "       Timestamp('2020-05-16 12:30:00+0900', tz='Asia/Tokyo', freq='30T')],\n",
       "      dtype=object)"
      ]
     },
     "execution_count": 68,
     "metadata": {},
     "output_type": "execute_result"
    }
   ],
   "source": [
    "s.to_numpy()"
   ]
  },
  {
   "cell_type": "code",
   "execution_count": 69,
   "metadata": {},
   "outputs": [
    {
     "ename": "TypeError",
     "evalue": "'numpy.ndarray' object is not callable",
     "output_type": "error",
     "traceback": [
      "\u001b[1;31m---------------------------------------------------------------------------\u001b[0m",
      "\u001b[1;31mTypeError\u001b[0m                                 Traceback (most recent call last)",
      "\u001b[1;32m<ipython-input-69-57e850d2cc5f>\u001b[0m in \u001b[0;36m<module>\u001b[1;34m\u001b[0m\n\u001b[1;32m----> 1\u001b[1;33m \u001b[0mdf\u001b[0m\u001b[1;33m.\u001b[0m\u001b[0mvalues\u001b[0m\u001b[1;33m(\u001b[0m\u001b[1;33m)\u001b[0m\u001b[1;33m\u001b[0m\u001b[1;33m\u001b[0m\u001b[0m\n\u001b[0m",
      "\u001b[1;31mTypeError\u001b[0m: 'numpy.ndarray' object is not callable"
     ]
    }
   ],
   "source": [
    "df.values()"
   ]
  },
  {
   "cell_type": "code",
   "execution_count": 70,
   "metadata": {},
   "outputs": [
    {
     "data": {
      "text/plain": [
       "array([[740150, 'Barton LLC', 'B1-20000', ..., 86.69, 3380.91,\n",
       "        Timestamp('2014-01-01 07:21:51')],\n",
       "       [714466, 'Trantow-Barrows', 'S2-77896', ..., 63.16, -63.16,\n",
       "        Timestamp('2014-01-01 10:00:47')],\n",
       "       [218895, 'Kulas Inc', 'B1-69924', ..., 90.7, 2086.1,\n",
       "        Timestamp('2014-01-01 13:24:58')],\n",
       "       ...,\n",
       "       [239344, 'Stokes LLC', 'S2-10342', ..., 38.75, 542.5,\n",
       "        Timestamp('2014-12-30 22:45:19')],\n",
       "       [642753, 'Pollich LLC', 'S2-82423', ..., 65.97, 197.91,\n",
       "        Timestamp('2014-12-31 10:36:24')],\n",
       "       [383080, 'Will LLC', 'S2-00301', ..., 46.44, 1764.72,\n",
       "        Timestamp('2014-12-31 12:48:35')]], dtype=object)"
      ]
     },
     "execution_count": 70,
     "metadata": {},
     "output_type": "execute_result"
    }
   ],
   "source": [
    "df.values"
   ]
  },
  {
   "cell_type": "code",
   "execution_count": 71,
   "metadata": {},
   "outputs": [
    {
     "data": {
      "text/plain": [
       "array([[740150, 'Barton LLC', 'B1-20000', ..., 86.69, 3380.91,\n",
       "        Timestamp('2014-01-01 07:21:51')],\n",
       "       [714466, 'Trantow-Barrows', 'S2-77896', ..., 63.16, -63.16,\n",
       "        Timestamp('2014-01-01 10:00:47')],\n",
       "       [218895, 'Kulas Inc', 'B1-69924', ..., 90.7, 2086.1,\n",
       "        Timestamp('2014-01-01 13:24:58')],\n",
       "       ...,\n",
       "       [239344, 'Stokes LLC', 'S2-10342', ..., 38.75, 542.5,\n",
       "        Timestamp('2014-12-30 22:45:19')],\n",
       "       [642753, 'Pollich LLC', 'S2-82423', ..., 65.97, 197.91,\n",
       "        Timestamp('2014-12-31 10:36:24')],\n",
       "       [383080, 'Will LLC', 'S2-00301', ..., 46.44, 1764.72,\n",
       "        Timestamp('2014-12-31 12:48:35')]], dtype=object)"
      ]
     },
     "execution_count": 71,
     "metadata": {},
     "output_type": "execute_result"
    }
   ],
   "source": [
    "np.asarray(df)"
   ]
  },
  {
   "cell_type": "code",
   "execution_count": 6,
   "metadata": {},
   "outputs": [
    {
     "data": {
      "text/plain": [
       "<Figure size 432x288 with 0 Axes>"
      ]
     },
     "metadata": {},
     "output_type": "display_data"
    }
   ],
   "source": [
    "fig=plt.figure()"
   ]
  },
  {
   "cell_type": "code",
   "execution_count": 7,
   "metadata": {},
   "outputs": [],
   "source": [
    "ax1=fig.add_subplot(2,2,1)"
   ]
  },
  {
   "cell_type": "code",
   "execution_count": 8,
   "metadata": {},
   "outputs": [],
   "source": [
    "ax2=fig.add_subplot(2,2,2)"
   ]
  },
  {
   "cell_type": "code",
   "execution_count": 9,
   "metadata": {},
   "outputs": [],
   "source": [
    "ax3=fig.add_subplot(2,2,3)"
   ]
  },
  {
   "cell_type": "code",
   "execution_count": 10,
   "metadata": {},
   "outputs": [
    {
     "data": {
      "image/png": "[encoded data removed]",
      "text/plain": [
       "<Figure size 432x288 with 3 Axes>"
      ]
     },
     "execution_count": 10,
     "metadata": {},
     "output_type": "execute_result"
    }
   ],
   "source": [
    "fig"
   ]
  },
  {
   "cell_type": "code",
   "execution_count": 11,
   "metadata": {},
   "outputs": [
    {
     "data": {
      "text/plain": [
       "[<matplotlib.lines.Line2D at 0x23c04ba6588>]"
      ]
     },
     "execution_count": 11,
     "metadata": {},
     "output_type": "execute_result"
    },
    {
     "data": {
      "image/png": "[encoded data removed]",
      "text/plain": [
       "<Figure size 432x288 with 1 Axes>"
      ]
     },
     "metadata": {
      "needs_background": "light"
     },
     "output_type": "display_data"
    }
   ],
   "source": [
    "plt.plot(np.random.randn(100).cumsum(),'k--')"
   ]
  },
  {
   "cell_type": "code",
   "execution_count": 23,
   "metadata": {},
   "outputs": [
    {
     "data": {
      "text/plain": [
       "[<matplotlib.lines.Line2D at 0x23c05352c88>]"
      ]
     },
     "execution_count": 23,
     "metadata": {},
     "output_type": "execute_result"
    }
   ],
   "source": [
    "ax1.plot(np.random.randn(100).cumsum(),linestyle= '--',color='r')"
   ]
  },
  {
   "cell_type": "code",
   "execution_count": 24,
   "metadata": {},
   "outputs": [
    {
     "data": {
      "image/png": "[encoded data removed]",
      "text/plain": [
       "<Figure size 432x288 with 3 Axes>"
      ]
     },
     "execution_count": 24,
     "metadata": {},
     "output_type": "execute_result"
    }
   ],
   "source": [
    "fig"
   ]
  },
  {
   "cell_type": "code",
   "execution_count": 17,
   "metadata": {},
   "outputs": [
    {
     "data": {
      "text/plain": [
       "<matplotlib.collections.PathCollection at 0x23c08c90608>"
      ]
     },
     "execution_count": 17,
     "metadata": {},
     "output_type": "execute_result"
    }
   ],
   "source": [
    "ax2.scatter(np.arange(30),np.arange(30)+3*np.random.randn(30))"
   ]
  },
  {
   "cell_type": "code",
   "execution_count": 18,
   "metadata": {},
   "outputs": [
    {
     "data": {
      "image/png": "[encoded data removed]",
      "text/plain": [
       "<Figure size 432x288 with 3 Axes>"
      ]
     },
     "execution_count": 18,
     "metadata": {},
     "output_type": "execute_result"
    }
   ],
   "source": [
    "fig"
   ]
  },
  {
   "cell_type": "code",
   "execution_count": 21,
   "metadata": {},
   "outputs": [
    {
     "data": {
      "image/png": "[encoded data removed]",
      "text/plain": [
       "<Figure size 432x288 with 4 Axes>"
      ]
     },
     "metadata": {
      "needs_background": "light"
     },
     "output_type": "display_data"
    }
   ],
   "source": [
    "f,ax=plt.subplots(2,2,sharex=True,sharey=True)"
   ]
  },
  {
   "cell_type": "code",
   "execution_count": 25,
   "metadata": {},
   "outputs": [
    {
     "data": {
      "text/plain": [
       "Text(0, 0.5, 'some numbers')"
      ]
     },
     "execution_count": 25,
     "metadata": {},
     "output_type": "execute_result"
    },
    {
     "data": {
      "image/png": "[encoded data removed]",
      "text/plain": [
       "<Figure size 432x288 with 1 Axes>"
      ]
     },
     "metadata": {
      "needs_background": "light"
     },
     "output_type": "display_data"
    }
   ],
   "source": [
    "plt.plot([1, 2, 3, 4])\n",
    "plt.ylabel('some numbers')"
   ]
  },
  {
   "cell_type": "code",
   "execution_count": 26,
   "metadata": {},
   "outputs": [
    {
     "data": {
      "text/plain": [
       "[<matplotlib.lines.Line2D at 0x23c07567648>]"
      ]
     },
     "execution_count": 26,
     "metadata": {},
     "output_type": "execute_result"
    },
    {
     "data": {
      "image/png": "[encoded data removed]",
      "text/plain": [
       "<Figure size 432x288 with 1 Axes>"
      ]
     },
     "metadata": {
      "needs_background": "light"
     },
     "output_type": "display_data"
    }
   ],
   "source": [
    "plt.plot([1, 2, 3, 4], [1, 4, 9, 16], 'ro')"
   ]
  },
  {
   "cell_type": "code",
   "execution_count": 32,
   "metadata": {},
   "outputs": [
    {
     "data": {
      "text/plain": [
       "([<matplotlib.axis.XTick at 0x23c097b2448>,\n",
       "  <matplotlib.axis.XTick at 0x23c097d1c88>,\n",
       "  <matplotlib.axis.XTick at 0x23c097ad7c8>,\n",
       "  <matplotlib.axis.XTick at 0x23c09798248>],\n",
       " <a list of 4 Text xticklabel objects>)"
      ]
     },
     "execution_count": 32,
     "metadata": {},
     "output_type": "execute_result"
    },
    {
     "data": {
      "image/png": "[encoded data removed]",
      "text/plain": [
       "<Figure size 432x288 with 1 Axes>"
      ]
     },
     "metadata": {
      "needs_background": "light"
     },
     "output_type": "display_data"
    }
   ],
   "source": [
    "plt.plot([1, 2, 3, 4], [1, 4, 9, 16], 'ro')\n",
    "plt.xticks(np.linspace(1,5,4))"
   ]
  },
  {
   "cell_type": "code",
   "execution_count": 33,
   "metadata": {},
   "outputs": [],
   "source": [
    "t = np.arange(0., 5., 0.2)"
   ]
  },
  {
   "cell_type": "code",
   "execution_count": 34,
   "metadata": {},
   "outputs": [
    {
     "data": {
      "text/plain": [
       "array([0. , 0.2, 0.4, 0.6, 0.8, 1. , 1.2, 1.4, 1.6, 1.8, 2. , 2.2, 2.4,\n",
       "       2.6, 2.8, 3. , 3.2, 3.4, 3.6, 3.8, 4. , 4.2, 4.4, 4.6, 4.8])"
      ]
     },
     "execution_count": 34,
     "metadata": {},
     "output_type": "execute_result"
    }
   ],
   "source": [
    "t"
   ]
  },
  {
   "cell_type": "code",
   "execution_count": 35,
   "metadata": {},
   "outputs": [
    {
     "data": {
      "text/plain": [
       "25"
      ]
     },
     "execution_count": 35,
     "metadata": {},
     "output_type": "execute_result"
    }
   ],
   "source": [
    "len(t)"
   ]
  },
  {
   "cell_type": "code",
   "execution_count": 36,
   "metadata": {},
   "outputs": [
    {
     "data": {
      "text/plain": [
       "[<matplotlib.lines.Line2D at 0x23c09a53a48>,\n",
       " <matplotlib.lines.Line2D at 0x23c097a40c8>,\n",
       " <matplotlib.lines.Line2D at 0x23c0976abc8>]"
      ]
     },
     "execution_count": 36,
     "metadata": {},
     "output_type": "execute_result"
    },
    {
     "data": {
      "image/png": "[encoded data removed]",
      "text/plain": [
       "<Figure size 432x288 with 1 Axes>"
      ]
     },
     "metadata": {
      "needs_background": "light"
     },
     "output_type": "display_data"
    }
   ],
   "source": [
    "plt.plot(t, t, 'r--', t, t**2, 'bs', t, t**3, 'g^')"
   ]
  },
  {
   "cell_type": "code",
   "execution_count": 37,
   "metadata": {},
   "outputs": [
    {
     "data": {
      "text/plain": [
       "[<matplotlib.lines.Line2D at 0x23c09ac69c8>,\n",
       " <matplotlib.lines.Line2D at 0x23c09acd8c8>,\n",
       " <matplotlib.lines.Line2D at 0x23c09acda88>]"
      ]
     },
     "execution_count": 37,
     "metadata": {},
     "output_type": "execute_result"
    },
    {
     "data": {
      "image/png": "[encoded data removed]",
      "text/plain": [
       "<Figure size 432x288 with 1 Axes>"
      ]
     },
     "metadata": {
      "needs_background": "light"
     },
     "output_type": "display_data"
    }
   ],
   "source": [
    "plt.plot(t, t, t, t**2,  t, t**3)"
   ]
  },
  {
   "cell_type": "code",
   "execution_count": 43,
   "metadata": {
    "scrolled": true
   },
   "outputs": [
    {
     "data": {
      "image/png": "[encoded data removed]",
      "text/plain": [
       "<Figure size 432x288 with 1 Axes>"
      ]
     },
     "metadata": {
      "needs_background": "light"
     },
     "output_type": "display_data"
    }
   ],
   "source": [
    "data = {'a': np.arange(50),\n",
    "        'c': np.random.randint(0, 50, 50),\n",
    "        'd': np.random.randn(50)}\n",
    "data['b'] = data['a'] + 10 * np.random.randn(50)\n",
    "data['d'] = np.abs(data['d']) * 100\n",
    "\n",
    "plt.scatter('a', 'b', c='c', s='d', data=data)\n",
    "plt.xlabel('entry a')\n",
    "plt.ylabel('entry b')\n",
    "plt.show()"
   ]
  },
  {
   "cell_type": "code",
   "execution_count": 49,
   "metadata": {},
   "outputs": [
    {
     "name": "stdout",
     "output_type": "stream",
     "text": [
      "  agg_filter: a filter function, which takes a (m, n, 3) float array and a dpi value, and returns a (m, n, 3) array\n",
      "  alpha: float\n",
      "  animated: bool\n",
      "  antialiased or aa: bool\n",
      "  clip_box: `.Bbox`\n",
      "  clip_on: bool\n",
      "  clip_path: [(`~matplotlib.path.Path`, `.Transform`) | `.Patch` | None]\n",
      "  color or c: color\n",
      "  contains: callable\n",
      "  dash_capstyle: {'butt', 'round', 'projecting'}\n",
      "  dash_joinstyle: {'miter', 'round', 'bevel'}\n",
      "  dashes: sequence of floats (on/off ink in points) or (None, None)\n",
      "  drawstyle or ds: {'default', 'steps', 'steps-pre', 'steps-mid', 'steps-post'}, default: 'default'\n",
      "  figure: `.Figure`\n",
      "  fillstyle: {'full', 'left', 'right', 'bottom', 'top', 'none'}\n",
      "  gid: str\n",
      "  in_layout: bool\n",
      "  label: object\n",
      "  linestyle or ls: {'-', '--', '-.', ':', '', (offset, on-off-seq), ...}\n",
      "  linewidth or lw: float\n",
      "  marker: marker style\n",
      "  markeredgecolor or mec: color\n",
      "  markeredgewidth or mew: float\n",
      "  markerfacecolor or mfc: color\n",
      "  markerfacecoloralt or mfcalt: color\n",
      "  markersize or ms: float\n",
      "  markevery: None or int or (int, int) or slice or List[int] or float or (float, float)\n",
      "  path_effects: `.AbstractPathEffect`\n",
      "  picker: float or callable[[Artist, Event], Tuple[bool, dict]]\n",
      "  pickradius: float\n",
      "  rasterized: bool or None\n",
      "  sketch_params: (scale: float, length: float, randomness: float)\n",
      "  snap: bool or None\n",
      "  solid_capstyle: {'butt', 'round', 'projecting'}\n",
      "  solid_joinstyle: {'miter', 'round', 'bevel'}\n",
      "  transform: `matplotlib.transforms.Transform`\n",
      "  url: str\n",
      "  visible: bool\n",
      "  xdata: 1D array\n",
      "  ydata: 1D array\n",
      "  zorder: float\n"
     ]
    },
    {
     "data": {
      "text/plain": [
       "Text(0.5, 0.98, 'Categorical Plotting')"
      ]
     },
     "execution_count": 49,
     "metadata": {},
     "output_type": "execute_result"
    },
    {
     "data": {
      "image/png": "[encoded data removed]",
      "text/plain": [
       "<Figure size 648x216 with 3 Axes>"
      ]
     },
     "metadata": {
      "needs_background": "light"
     },
     "output_type": "display_data"
    }
   ],
   "source": [
    "names = ['group_a', 'group_b', 'group_c']\n",
    "values = [1, 10, 100]\n",
    "plt.figure(figsize=(9, 3))\n",
    "\n",
    "plt.subplot(131)\n",
    "plt.bar(names, values)\n",
    "plt.subplot(132)\n",
    "plt.scatter(names, values)\n",
    "plt.subplot(133)\n",
    "line,=plt.plot(names, values)\n",
    "plt.setp(line)\n",
    "plt.suptitle('Categorical Plotting')"
   ]
  },
  {
   "cell_type": "code",
   "execution_count": 52,
   "metadata": {},
   "outputs": [
    {
     "name": "stdout",
     "output_type": "stream",
     "text": [
      "AxesSubplot(0.125,0.536818;0.775x0.343182)\n",
      "AxesSubplot(0.125,0.536818;0.775x0.343182)\n",
      "AxesSubplot(0.125,0.125;0.775x0.343182)\n"
     ]
    },
    {
     "data": {
      "image/png": "[encoded data removed]",
      "text/plain": [
       "<Figure size 432x288 with 2 Axes>"
      ]
     },
     "metadata": {
      "needs_background": "light"
     },
     "output_type": "display_data"
    }
   ],
   "source": [
    "def f(t):\n",
    "    return np.exp(-t) * np.cos(2*np.pi*t)\n",
    "\n",
    "t1 = np.arange(0.0, 5.0, 0.1)\n",
    "t2 = np.arange(0.0, 5.0, 0.02)\n",
    "\n",
    "plt.figure()\n",
    "plt.subplot(211)\n",
    "print(plt.gca())\n",
    "plt.plot(t1, f(t1), 'bo', t2, f(t2), 'k')\n",
    "print(plt.gca())\n",
    "plt.subplot(212)\n",
    "print(plt.gca())\n",
    "plt.plot(t2, np.cos(2*np.pi*t2), 'r--')\n",
    "plt.show()"
   ]
  },
  {
   "cell_type": "code",
   "execution_count": 53,
   "metadata": {},
   "outputs": [
    {
     "name": "stderr",
     "output_type": "stream",
     "text": [
      "D:\\01_software\\miniconda3\\envs\\py3.7\\lib\\site-packages\\ipykernel_launcher.py:13: MatplotlibDeprecationWarning: Adding an axes using the same arguments as a previous axes currently reuses the earlier instance.  In a future version, a new instance will always be created and returned.  Meanwhile, this warning can be suppressed, and the future behavior ensured, by passing a unique label to each axes instance.\n",
      "  del sys.path[0]\n"
     ]
    },
    {
     "data": {
      "text/plain": [
       "Text(0.5, 1.0, 'Easy as 1, 2, 3')"
      ]
     },
     "execution_count": 53,
     "metadata": {},
     "output_type": "execute_result"
    },
    {
     "data": {
      "image/png": "[encoded data removed]",
      "text/plain": [
       "<Figure size 432x288 with 2 Axes>"
      ]
     },
     "metadata": {
      "needs_background": "light"
     },
     "output_type": "display_data"
    },
    {
     "data": {
      "image/png": "[encoded data removed]",
      "text/plain": [
       "<Figure size 432x288 with 1 Axes>"
      ]
     },
     "metadata": {
      "needs_background": "light"
     },
     "output_type": "display_data"
    }
   ],
   "source": [
    "import matplotlib.pyplot as plt\n",
    "plt.figure(1)                # the first figure\n",
    "plt.subplot(211)             # the first subplot in the first figure\n",
    "plt.plot([1, 2, 3])\n",
    "plt.subplot(212)             # the second subplot in the first figure\n",
    "plt.plot([4, 5, 6])\n",
    "\n",
    "\n",
    "plt.figure(2)                # a second figure\n",
    "plt.plot([4, 5, 6])          # creates a subplot(111) by default\n",
    "\n",
    "plt.figure(1)                # figure 1 current; subplot(212) still current\n",
    "plt.subplot(211)             # make subplot(211) in figure1 current\n",
    "plt.title('Easy as 1, 2, 3') # subplot 211 title"
   ]
  },
  {
   "cell_type": "code",
   "execution_count": 74,
   "metadata": {},
   "outputs": [
    {
     "name": "stdout",
     "output_type": "stream",
     "text": [
      "50\n"
     ]
    },
    {
     "data": {
      "image/png": "[encoded data removed]",
      "text/plain": [
       "<Figure size 432x288 with 1 Axes>"
      ]
     },
     "metadata": {
      "needs_background": "light"
     },
     "output_type": "display_data"
    }
   ],
   "source": [
    "mu, sigma = 100, 15\n",
    "x = mu + sigma * np.random.randn(10000)\n",
    "\n",
    "# the histogram of the data\n",
    "n, bins, patches = plt.hist(x, 50, density=1, facecolor='g', alpha=0.75)\n",
    "plt.grid(True)\n",
    "plt.text(60, .025, r'$\\mu=100,\\  \\sigma=15$')\n",
    "print(len(n))"
   ]
  },
  {
   "cell_type": "code",
   "execution_count": 80,
   "metadata": {},
   "outputs": [
    {
     "data": {
      "image/png": "[encoded data removed]",
      "text/plain": [
       "<Figure size 432x288 with 3 Axes>"
      ]
     },
     "metadata": {
      "needs_background": "light"
     },
     "output_type": "display_data"
    }
   ],
   "source": [
    "# Our data...\n",
    "x = np.linspace(0, 10, 100)\n",
    "y1, y2, y3 = np.cos(x), np.cos(x + 1), np.cos(x + 2)\n",
    "names = ['Signal 1', 'Signal 2', 'Signal 3']\n",
    "fig,(ax1,ax2,ax3) = plt.subplots(3,1,sharex=True,sharey=True)\n"
   ]
  },
  {
   "cell_type": "code",
   "execution_count": 81,
   "metadata": {},
   "outputs": [
    {
     "data": {
      "text/plain": [
       "[<matplotlib.lines.Line2D at 0x23c075db048>]"
      ]
     },
     "execution_count": 81,
     "metadata": {},
     "output_type": "execute_result"
    }
   ],
   "source": [
    "ax1.plot(x,y1,'r-')"
   ]
  },
  {
   "cell_type": "code",
   "execution_count": 82,
   "metadata": {},
   "outputs": [
    {
     "data": {
      "text/plain": [
       "[<matplotlib.lines.Line2D at 0x23c0b1fef48>]"
      ]
     },
     "execution_count": 82,
     "metadata": {},
     "output_type": "execute_result"
    }
   ],
   "source": [
    "ax2.plot(x,y2,'b-')\n",
    "ax3.plot(x,y3,'y-')"
   ]
  },
  {
   "cell_type": "code",
   "execution_count": 83,
   "metadata": {},
   "outputs": [
    {
     "data": {
      "image/png": "[encoded data removed]",
      "text/plain": [
       "<Figure size 432x288 with 3 Axes>"
      ]
     },
     "execution_count": 83,
     "metadata": {},
     "output_type": "execute_result"
    }
   ],
   "source": [
    "fig"
   ]
  },
  {
   "cell_type": "code",
   "execution_count": 86,
   "metadata": {},
   "outputs": [
    {
     "data": {
      "text/plain": [
       "[<matplotlib.lines.Line2D at 0x23c074a9308>,\n",
       " <matplotlib.lines.Line2D at 0x23c075167c8>,\n",
       " <matplotlib.lines.Line2D at 0x23c077b8ac8>]"
      ]
     },
     "execution_count": 86,
     "metadata": {},
     "output_type": "execute_result"
    },
    {
     "data": {
      "image/png": "[encoded data removed]",
      "text/plain": [
       "<Figure size 432x288 with 1 Axes>"
      ]
     },
     "metadata": {
      "needs_background": "light"
     },
     "output_type": "display_data"
    }
   ],
   "source": [
    "plt.plot(x,y1,'r--',x,y2,'b-',x,y3,'y--')"
   ]
  },
  {
   "cell_type": "code",
   "execution_count": 91,
   "metadata": {},
   "outputs": [
    {
     "data": {
      "image/png": "[encoded data removed]",
      "text/plain": [
       "<Figure size 576x288 with 2 Axes>"
      ]
     },
     "metadata": {
      "needs_background": "light"
     },
     "output_type": "display_data"
    }
   ],
   "source": [
    "np.random.seed(1)\n",
    "x = np.arange(5)\n",
    "y = np.random.randn(5)\n",
    "\n",
    "fig, axes = plt.subplots(ncols=2, figsize=plt.figaspect(1./2))\n",
    "\n",
    "vert_bars = axes[0].bar(x, y, color='lightblue', align='center')\n",
    "horiz_bars = axes[1].barh(x, y, color='lightblue', align='center')\n",
    "\n",
    "# I'll also introduce axhline & axvline to draw a line all the way across the axes\n",
    "# This can be a quick-n-easy way to draw an axis \"spine\".\n",
    "axes[0].axhline(0, color='r', linewidth=2)\n",
    "axes[1].axvline(0, color='y', linewidth=2)\n",
    "\n",
    "plt.show()"
   ]
  },
  {
   "cell_type": "code",
   "execution_count": null,
   "metadata": {},
   "outputs": [],
   "source": []
  }
 ],
 "metadata": {
  "kernelspec": {
   "display_name": "Python 3",
   "language": "python",
   "name": "python3"
  },
  "language_info": {
   "codemirror_mode": {
    "name": "ipython",
    "version": 3
   },
   "file_extension": ".py",
   "mimetype": "text/x-python",
   "name": "python",
   "nbconvert_exporter": "python",
   "pygments_lexer": "ipython3",
   "version": "3.7.7"
  },
  "toc": {
   "base_numbering": 1,
   "nav_menu": {},
   "number_sections": true,
   "sideBar": true,
   "skip_h1_title": false,
   "title_cell": "Table of Contents",
   "title_sidebar": "Contents",
   "toc_cell": false,
   "toc_position": {},
   "toc_section_display": true,
   "toc_window_display": false
  }
 },
 "nbformat": 4,
 "nbformat_minor": 4
}
